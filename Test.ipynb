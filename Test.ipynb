{
 "cells": [
  {
   "cell_type": "code",
   "execution_count": 26,
   "metadata": {
    "collapsed": false
   },
   "outputs": [
    {
     "name": "stderr",
     "output_type": "stream",
     "text": [
      "/usr/local/lib/python2.7/dist-packages/ipykernel/__main__.py:10: RuntimeWarning: overflow encountered in exp\n"
     ]
    }
   ],
   "source": [
    "import numpy as np\n",
    "import matplotlib.pyplot as plt\n",
    "\n",
    "freqs = np.linspace(0, 1000, 10000)\n",
    "\n",
    "def F(x, freqs):\n",
    "    \n",
    "    # Create coeff for a real valued function.\n",
    "    coeff = np.random.normal(0, 1, size=freqs.size) + 1j * np.random.normal(0, 1, size=freqs.size)\n",
    "    coeff = coeff / np.exp((1 + np.sqrt(freqs))**2)\n",
    "    #  coeff[0] = np.random.normal(0, 1)                    \n",
    "    \n",
    "    # Create coeff for negative freqs.\n",
    "    coeff = np.concatenate((coeff[:0:-1].conj(), coeff))            \n",
    "    freqs = np.concatenate(((-freqs)[:0:-1], freqs))\n",
    "    \n",
    "    return (coeff.dot(np.exp(1j * freqs.reshape(freqs.size, 1) * x.reshape(1, x.size)))).T\n",
    "\n",
    "X = np.linspace(-50, 50, 2000)\n",
    "f = plt.figure(figsize=(20,10))\n",
    "for i in range(10):\n",
    "    plt.plot(X, F(X, freqs))\n",
    "\n",
    "plt.show()"
   ]
  },
  {
   "cell_type": "code",
   "execution_count": 25,
   "metadata": {
    "collapsed": false
   },
   "outputs": [
    {
     "data": {
      "text/plain": [
       "0.0"
      ]
     },
     "execution_count": 25,
     "metadata": {},
     "output_type": "execute_result"
    }
   ],
   "source": [
    "np.exp(-1000)"
   ]
  },
  {
   "cell_type": "code",
   "execution_count": null,
   "metadata": {
    "collapsed": true
   },
   "outputs": [],
   "source": []
  }
 ],
 "metadata": {
  "kernelspec": {
   "display_name": "Python 2",
   "language": "python",
   "name": "python2"
  },
  "language_info": {
   "codemirror_mode": {
    "name": "ipython",
    "version": 2
   },
   "file_extension": ".py",
   "mimetype": "text/x-python",
   "name": "python",
   "nbconvert_exporter": "python",
   "pygments_lexer": "ipython2",
   "version": "2.7.9"
  }
 },
 "nbformat": 4,
 "nbformat_minor": 0
}
