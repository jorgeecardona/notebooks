{
 "cells": [
  {
   "cell_type": "code",
   "execution_count": 37,
   "metadata": {
    "collapsed": true
   },
   "outputs": [],
   "source": [
    "def save_animation(filename, anim):\n",
    "    Writer = animation.writers['avconv']\n",
    "    writer = Writer(fps=30, metadata=dict(artist='Jorge E. Cardona', email='jorge@cardona.co'), bitrate=9600)\n",
    "    anim.save(filename, writer=writer, dpi=100)"
   ]
  },
  {
   "cell_type": "code",
   "execution_count": 39,
   "metadata": {
    "collapsed": false
   },
   "outputs": [],
   "source": [
    "import numpy as np\n",
    "import matplotlib.pyplot as plt\n",
    "from mpl_toolkits.mplot3d import Axes3D\n",
    "import matplotlib.animation as animation\n",
    "\n",
    "def lorenz(X, s=10, r=28, b=2.667):\n",
    "    return np.array([s * (X[1] - X[0]), r * X[0] - X[1] - X[0] * X[2], X[0] * X[1] - b * X[2]])\n",
    "\n",
    "fig = plt.figure(figsize=(12, 8))\n",
    "ax = fig.gca(projection='3d')\n",
    "\n",
    "lines = []\n",
    "\n",
    "# Setting initial values\n",
    "X = np.array([[0., 1., 1.05]]).T\n",
    "stepSize = 20\n",
    "dt = 0.005\n",
    "\n",
    "def update_lines(n):    \n",
    "    \n",
    "    global X\n",
    "    \n",
    "    # Add space for the next steps.\n",
    "    X = np.hstack((X, np.empty((3, stepSize))))\n",
    "\n",
    "    # Compute the next steps.\n",
    "    for i in range(X.shape[1] - stepSize, X.shape[1]):\n",
    "        X[:,i] = X[:,i - 1] + dt * lorenz(X[:,i - 1])            \n",
    "    \n",
    "    if len(lines) == 0:\n",
    "        lines.append(ax.plot(X[0], X[1], X[2], linewidth=0.2)[0])\n",
    "        lines.append(ax.plot(X[0][-stepSize*3:], X[1][-stepSize*3:], X[2][-stepSize*3:], linewidth=2.0, color='g')[0])\n",
    "        ax.set_xlabel(\"X Axis\")\n",
    "        ax.set_ylabel(\"Y Axis\")\n",
    "        ax.set_zlabel(\"Z Axis\")\n",
    "        ax.set_xlim((-30, 30))\n",
    "        ax.set_ylim((-30, 30))\n",
    "        ax.set_zlim((0, 60))\n",
    "        \n",
    "        ax.set_title(\"Lorenz Attractor\")\n",
    "    else:\n",
    "        lines[0].set_data(X[0], X[1])\n",
    "        lines[0].set_3d_properties(X[2])\n",
    "        \n",
    "        lines[1].set_data(X[0][-stepSize*3:], X[1][-stepSize*3:])\n",
    "        lines[1].set_3d_properties(X[2][-stepSize*3:])\n",
    "\n",
    "        \n",
    "    ax.view_init(45 + 40 * np.sin(n / 10.0), n / 2.0) \n",
    "        \n",
    "update_lines(0)\n",
    "anim = animation.FuncAnimation(fig, update_lines, frames=4000, interval=30, blit=False, repeat=True)\n",
    "save_animation(\"lorenz.mpg\", anim)\n",
    "#plt.show()"
   ]
  },
  {
   "cell_type": "code",
   "execution_count": null,
   "metadata": {
    "collapsed": true
   },
   "outputs": [],
   "source": []
  }
 ],
 "metadata": {
  "kernelspec": {
   "display_name": "Python 2",
   "language": "python",
   "name": "python2"
  },
  "language_info": {
   "codemirror_mode": {
    "name": "ipython",
    "version": 2
   },
   "file_extension": ".py",
   "mimetype": "text/x-python",
   "name": "python",
   "nbconvert_exporter": "python",
   "pygments_lexer": "ipython2",
   "version": "2.7.9"
  }
 },
 "nbformat": 4,
 "nbformat_minor": 0
}
